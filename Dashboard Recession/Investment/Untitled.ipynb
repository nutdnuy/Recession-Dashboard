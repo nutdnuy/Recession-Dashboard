{
 "cells": [
  {
   "cell_type": "markdown",
   "id": "8211ec4e",
   "metadata": {
    "tags": []
   },
   "source": [
    "# Back Test"
   ]
  },
  {
   "cell_type": "code",
   "execution_count": 1,
   "id": "c74eaf38",
   "metadata": {},
   "outputs": [],
   "source": [
    "import pandas as pd\n",
    "import numpy as np\n",
    "import matplotlib as plt\n",
    "import ffn\n",
    "import scipy"
   ]
  },
  {
   "cell_type": "code",
   "execution_count": 2,
   "id": "97f56dbf",
   "metadata": {},
   "outputs": [
    {
     "name": "stdout",
     "output_type": "stream",
     "text": [
      "/Users/nuthdanai/Desktop/Dashboard Recession/Investment\n"
     ]
    },
    {
     "ename": "FileNotFoundError",
     "evalue": "[Errno 2] No such file or directory: '../RawData/weight_return.xlsx'",
     "output_type": "error",
     "traceback": [
      "\u001b[0;31m---------------------------------------------------------------------------\u001b[0m",
      "\u001b[0;31mFileNotFoundError\u001b[0m                         Traceback (most recent call last)",
      "\u001b[0;32m/var/folders/nr/3vs7wdfj1mn1333tl23g4vy00000gn/T/ipykernel_27656/3985436716.py\u001b[0m in \u001b[0;36m<module>\u001b[0;34m\u001b[0m\n\u001b[1;32m      3\u001b[0m \u001b[0mdirRawData\u001b[0m \u001b[0;34m=\u001b[0m \u001b[0;34m\"../RawData/\"\u001b[0m\u001b[0;34m\u001b[0m\u001b[0;34m\u001b[0m\u001b[0m\n\u001b[1;32m      4\u001b[0m \u001b[0;34m\u001b[0m\u001b[0m\n\u001b[0;32m----> 5\u001b[0;31m \u001b[0mxls\u001b[0m \u001b[0;34m=\u001b[0m \u001b[0mpd\u001b[0m\u001b[0;34m.\u001b[0m\u001b[0mExcelFile\u001b[0m\u001b[0;34m(\u001b[0m\u001b[0mdirRawData\u001b[0m \u001b[0;34m+\u001b[0m \u001b[0;34m'weight_return.xlsx'\u001b[0m\u001b[0;34m)\u001b[0m\u001b[0;34m\u001b[0m\u001b[0;34m\u001b[0m\u001b[0m\n\u001b[0m\u001b[1;32m      6\u001b[0m \u001b[0mweight_eq_wkly\u001b[0m  \u001b[0;34m=\u001b[0m \u001b[0mpd\u001b[0m\u001b[0;34m.\u001b[0m\u001b[0mread_excel\u001b[0m\u001b[0;34m(\u001b[0m\u001b[0mxls\u001b[0m\u001b[0;34m,\u001b[0m \u001b[0;34m'weight_eq_wkly'\u001b[0m\u001b[0;34m,\u001b[0m \u001b[0mindex_col\u001b[0m\u001b[0;34m=\u001b[0m\u001b[0;36m0\u001b[0m\u001b[0;34m)\u001b[0m\u001b[0;34m\u001b[0m\u001b[0;34m\u001b[0m\u001b[0m\n\u001b[1;32m      7\u001b[0m \u001b[0msimple_return\u001b[0m  \u001b[0;34m=\u001b[0m \u001b[0mpd\u001b[0m\u001b[0;34m.\u001b[0m\u001b[0mread_excel\u001b[0m\u001b[0;34m(\u001b[0m\u001b[0mxls\u001b[0m\u001b[0;34m,\u001b[0m \u001b[0;34m'simple_return'\u001b[0m\u001b[0;34m,\u001b[0m \u001b[0mindex_col\u001b[0m\u001b[0;34m=\u001b[0m\u001b[0;36m0\u001b[0m\u001b[0;34m)\u001b[0m\u001b[0;34m\u001b[0m\u001b[0;34m\u001b[0m\u001b[0m\n",
      "\u001b[0;32m~/opt/anaconda3/lib/python3.9/site-packages/pandas/io/excel/_base.py\u001b[0m in \u001b[0;36m__init__\u001b[0;34m(self, path_or_buffer, engine, storage_options)\u001b[0m\n\u001b[1;32m   1650\u001b[0m                 \u001b[0mext\u001b[0m \u001b[0;34m=\u001b[0m \u001b[0;34m\"xls\"\u001b[0m\u001b[0;34m\u001b[0m\u001b[0;34m\u001b[0m\u001b[0m\n\u001b[1;32m   1651\u001b[0m             \u001b[0;32melse\u001b[0m\u001b[0;34m:\u001b[0m\u001b[0;34m\u001b[0m\u001b[0;34m\u001b[0m\u001b[0m\n\u001b[0;32m-> 1652\u001b[0;31m                 ext = inspect_excel_format(\n\u001b[0m\u001b[1;32m   1653\u001b[0m                     \u001b[0mcontent_or_path\u001b[0m\u001b[0;34m=\u001b[0m\u001b[0mpath_or_buffer\u001b[0m\u001b[0;34m,\u001b[0m \u001b[0mstorage_options\u001b[0m\u001b[0;34m=\u001b[0m\u001b[0mstorage_options\u001b[0m\u001b[0;34m\u001b[0m\u001b[0;34m\u001b[0m\u001b[0m\n\u001b[1;32m   1654\u001b[0m                 )\n",
      "\u001b[0;32m~/opt/anaconda3/lib/python3.9/site-packages/pandas/io/excel/_base.py\u001b[0m in \u001b[0;36minspect_excel_format\u001b[0;34m(content_or_path, storage_options)\u001b[0m\n\u001b[1;32m   1523\u001b[0m         \u001b[0mcontent_or_path\u001b[0m \u001b[0;34m=\u001b[0m \u001b[0mBytesIO\u001b[0m\u001b[0;34m(\u001b[0m\u001b[0mcontent_or_path\u001b[0m\u001b[0;34m)\u001b[0m\u001b[0;34m\u001b[0m\u001b[0;34m\u001b[0m\u001b[0m\n\u001b[1;32m   1524\u001b[0m \u001b[0;34m\u001b[0m\u001b[0m\n\u001b[0;32m-> 1525\u001b[0;31m     with get_handle(\n\u001b[0m\u001b[1;32m   1526\u001b[0m         \u001b[0mcontent_or_path\u001b[0m\u001b[0;34m,\u001b[0m \u001b[0;34m\"rb\"\u001b[0m\u001b[0;34m,\u001b[0m \u001b[0mstorage_options\u001b[0m\u001b[0;34m=\u001b[0m\u001b[0mstorage_options\u001b[0m\u001b[0;34m,\u001b[0m \u001b[0mis_text\u001b[0m\u001b[0;34m=\u001b[0m\u001b[0;32mFalse\u001b[0m\u001b[0;34m\u001b[0m\u001b[0;34m\u001b[0m\u001b[0m\n\u001b[1;32m   1527\u001b[0m     ) as handle:\n",
      "\u001b[0;32m~/opt/anaconda3/lib/python3.9/site-packages/pandas/io/common.py\u001b[0m in \u001b[0;36mget_handle\u001b[0;34m(path_or_buf, mode, encoding, compression, memory_map, is_text, errors, storage_options)\u001b[0m\n\u001b[1;32m    863\u001b[0m         \u001b[0;32melse\u001b[0m\u001b[0;34m:\u001b[0m\u001b[0;34m\u001b[0m\u001b[0;34m\u001b[0m\u001b[0m\n\u001b[1;32m    864\u001b[0m             \u001b[0;31m# Binary mode\u001b[0m\u001b[0;34m\u001b[0m\u001b[0;34m\u001b[0m\u001b[0m\n\u001b[0;32m--> 865\u001b[0;31m             \u001b[0mhandle\u001b[0m \u001b[0;34m=\u001b[0m \u001b[0mopen\u001b[0m\u001b[0;34m(\u001b[0m\u001b[0mhandle\u001b[0m\u001b[0;34m,\u001b[0m \u001b[0mioargs\u001b[0m\u001b[0;34m.\u001b[0m\u001b[0mmode\u001b[0m\u001b[0;34m)\u001b[0m\u001b[0;34m\u001b[0m\u001b[0;34m\u001b[0m\u001b[0m\n\u001b[0m\u001b[1;32m    866\u001b[0m         \u001b[0mhandles\u001b[0m\u001b[0;34m.\u001b[0m\u001b[0mappend\u001b[0m\u001b[0;34m(\u001b[0m\u001b[0mhandle\u001b[0m\u001b[0;34m)\u001b[0m\u001b[0;34m\u001b[0m\u001b[0;34m\u001b[0m\u001b[0m\n\u001b[1;32m    867\u001b[0m \u001b[0;34m\u001b[0m\u001b[0m\n",
      "\u001b[0;31mFileNotFoundError\u001b[0m: [Errno 2] No such file or directory: '../RawData/weight_return.xlsx'"
     ]
    }
   ],
   "source": [
    "import os.path\n",
    "print(os.getcwd())\n",
    "dirRawData = \"../RawData/\"\n",
    "\n",
    "xls = pd.ExcelFile(dirRawData + 'weight_return.xlsx')\n",
    "weight_eq_wkly  = pd.read_excel(xls, 'weight_eq_wkly', index_col=0)\n",
    "simple_return  = pd.read_excel(xls, 'simple_return', index_col=0)"
   ]
  },
  {
   "cell_type": "code",
   "execution_count": 74,
   "id": "335fce24",
   "metadata": {},
   "outputs": [
    {
     "name": "stdout",
     "output_type": "stream",
     "text": [
      "/Users/paksupa/Desktop/Nuth all class/Investment\n",
      "##########\n",
      "\n",
      "Magicians are blowing themselves up all over the place.\n",
      "\n",
      "##########\n"
     ]
    }
   ],
   "source": [
    "import  Backtestlib\n",
    "from   Backtestlib import Basic_backtest\n",
    "p1 = Basic_backtest(weight_eq_wkly, simple_return, intial_nav=1, riskfree_rate=0, fee = 0)"
   ]
  },
  {
   "cell_type": "code",
   "execution_count": 81,
   "id": "45292f7f",
   "metadata": {
    "collapsed": true,
    "jupyter": {
     "outputs_hidden": true
    },
    "tags": []
   },
   "outputs": [
    {
     "data": {
      "text/plain": [
       "2003-07-23    0.004852\n",
       "2003-07-24    0.005429\n",
       "2003-07-25    0.004779\n",
       "2003-07-28    0.007965\n",
       "2003-07-29    0.000987\n",
       "                ...   \n",
       "2022-10-11   -0.009720\n",
       "2022-10-12   -0.001552\n",
       "2022-10-17    0.016944\n",
       "2022-10-18    0.007927\n",
       "2022-10-19   -0.010052\n",
       "Name: Port, Length: 4697, dtype: float64"
      ]
     },
     "execution_count": 81,
     "metadata": {},
     "output_type": "execute_result"
    }
   ],
   "source": [
    "p1.r"
   ]
  },
  {
   "cell_type": "markdown",
   "id": "90a670f6",
   "metadata": {
    "jp-MarkdownHeadingCollapsed": true,
    "tags": []
   },
   "source": [
    "# Regime Base Investment"
   ]
  },
  {
   "cell_type": "code",
   "execution_count": 84,
   "id": "f3b5cb09",
   "metadata": {},
   "outputs": [],
   "source": [
    "import pandas as pd\n",
    "import numpy as np\n",
    "import sklearn.mixture as mix\n",
    "import scipy.stats as scs\n",
    "import statsmodels.api as sm\n",
    "\n",
    "%matplotlib inline\n",
    "\n",
    "import seaborn as sns"
   ]
  },
  {
   "cell_type": "code",
   "execution_count": 88,
   "id": "07772833",
   "metadata": {},
   "outputs": [],
   "source": [
    "#Import data\n",
    "import yfinance as yf\n",
    "\n",
    "df = yf.Ticker(\"spy\")\n",
    "\n",
    "# get stock info\n",
    "df.info\n",
    "\n",
    "# get historical market data\n",
    "df = df.history(period=\"max\")\n",
    "\n",
    "df[\"Returns\"] = df[\"Close\"].pct_change()\n",
    "df = df[2010 : ]\n",
    "df[\"range\"] = (df[\"High\"]/df[\"Low\"])-1\n",
    "df = df.dropna()"
   ]
  },
  {
   "cell_type": "code",
   "execution_count": 136,
   "id": "b082d59e",
   "metadata": {},
   "outputs": [
    {
     "name": "stderr",
     "output_type": "stream",
     "text": [
      "/Users/paksupa/opt/anaconda3/envs/Stock_Crypt0/lib/python3.7/site-packages/statsmodels/tsa/base/tsa_model.py:471: ValueWarning: A date index has been provided, but it has no associated frequency information and so will be ignored when e.g. forecasting.\n",
      "  self._init_dates(dates, freq)\n"
     ]
    },
    {
     "data": {
      "text/html": [
       "<table class=\"simpletable\">\n",
       "<caption>Markov Switching Model Results</caption>\n",
       "<tr>\n",
       "  <th>Dep. Variable:</th>           <td>range</td>        <th>  No. Observations:  </th>    <td>5494</td>   \n",
       "</tr>\n",
       "<tr>\n",
       "  <th>Model:</th>           <td>MarkovAutoregression</td> <th>  Log Likelihood     </th>  <td>20262.737</td>\n",
       "</tr>\n",
       "<tr>\n",
       "  <th>Date:</th>              <td>Sun, 20 Nov 2022</td>   <th>  AIC                </th> <td>-40507.474</td>\n",
       "</tr>\n",
       "<tr>\n",
       "  <th>Time:</th>                  <td>14:58:02</td>       <th>  BIC                </th> <td>-40447.971</td>\n",
       "</tr>\n",
       "<tr>\n",
       "  <th>Sample:</th>                    <td>0</td>          <th>  HQIC               </th> <td>-40486.718</td>\n",
       "</tr>\n",
       "<tr>\n",
       "  <th></th>                        <td> - 5494</td>       <th>                     </th>      <td> </td>    \n",
       "</tr>\n",
       "<tr>\n",
       "  <th>Covariance Type:</th>        <td>approx</td>        <th>                     </th>      <td> </td>    \n",
       "</tr>\n",
       "</table>\n",
       "<table class=\"simpletable\">\n",
       "<caption>Regime 0 parameters</caption>\n",
       "<tr>\n",
       "    <td></td>       <th>coef</th>     <th>std err</th>      <th>z</th>      <th>P>|z|</th>  <th>[0.025</th>    <th>0.975]</th>  \n",
       "</tr>\n",
       "<tr>\n",
       "  <th>const</th> <td>    0.0127</td> <td>    0.001</td> <td>   19.924</td> <td> 0.000</td> <td>    0.011</td> <td>    0.014</td>\n",
       "</tr>\n",
       "</table>\n",
       "<table class=\"simpletable\">\n",
       "<caption>Regime 1 parameters</caption>\n",
       "<tr>\n",
       "    <td></td>       <th>coef</th>     <th>std err</th>      <th>z</th>      <th>P>|z|</th>  <th>[0.025</th>    <th>0.975]</th>  \n",
       "</tr>\n",
       "<tr>\n",
       "  <th>const</th> <td>    0.0410</td> <td>    0.001</td> <td>   43.110</td> <td> 0.000</td> <td>    0.039</td> <td>    0.043</td>\n",
       "</tr>\n",
       "</table>\n",
       "<table class=\"simpletable\">\n",
       "<caption>Non-switching parameters</caption>\n",
       "<tr>\n",
       "     <td></td>       <th>coef</th>     <th>std err</th>      <th>z</th>      <th>P>|z|</th>  <th>[0.025</th>    <th>0.975]</th>  \n",
       "</tr>\n",
       "<tr>\n",
       "  <th>sigma2</th> <td> 3.067e-05</td> <td> 6.22e-07</td> <td>   49.318</td> <td> 0.000</td> <td> 2.94e-05</td> <td> 3.19e-05</td>\n",
       "</tr>\n",
       "<tr>\n",
       "  <th>ar.L1</th>  <td>    0.3193</td> <td>    0.016</td> <td>   19.919</td> <td> 0.000</td> <td>    0.288</td> <td>    0.351</td>\n",
       "</tr>\n",
       "<tr>\n",
       "  <th>ar.L2</th>  <td>    0.2200</td> <td>    0.016</td> <td>   13.385</td> <td> 0.000</td> <td>    0.188</td> <td>    0.252</td>\n",
       "</tr>\n",
       "<tr>\n",
       "  <th>ar.L3</th>  <td>    0.1931</td> <td>    0.015</td> <td>   12.762</td> <td> 0.000</td> <td>    0.163</td> <td>    0.223</td>\n",
       "</tr>\n",
       "<tr>\n",
       "  <th>ar.L4</th>  <td>    0.1503</td> <td>    0.015</td> <td>    9.892</td> <td> 0.000</td> <td>    0.121</td> <td>    0.180</td>\n",
       "</tr>\n",
       "</table>\n",
       "<table class=\"simpletable\">\n",
       "<caption>Regime transition parameters</caption>\n",
       "<tr>\n",
       "     <td></td>        <th>coef</th>     <th>std err</th>      <th>z</th>      <th>P>|z|</th>  <th>[0.025</th>    <th>0.975]</th>  \n",
       "</tr>\n",
       "<tr>\n",
       "  <th>p[0->0]</th> <td>    0.9842</td> <td>    0.002</td> <td>  529.773</td> <td> 0.000</td> <td>    0.981</td> <td>    0.988</td>\n",
       "</tr>\n",
       "<tr>\n",
       "  <th>p[1->0]</th> <td>    0.6434</td> <td>    0.047</td> <td>   13.814</td> <td> 0.000</td> <td>    0.552</td> <td>    0.735</td>\n",
       "</tr>\n",
       "</table><br/><br/>Warnings:<br/>[1] Covariance matrix calculated using numerical (complex-step) differentiation."
      ],
      "text/plain": [
       "<class 'statsmodels.iolib.summary.Summary'>\n",
       "\"\"\"\n",
       "                         Markov Switching Model Results                         \n",
       "================================================================================\n",
       "Dep. Variable:                    range   No. Observations:                 5494\n",
       "Model:             MarkovAutoregression   Log Likelihood               20262.737\n",
       "Date:                  Sun, 20 Nov 2022   AIC                         -40507.474\n",
       "Time:                          14:58:02   BIC                         -40447.971\n",
       "Sample:                               0   HQIC                        -40486.718\n",
       "                                 - 5494                                         \n",
       "Covariance Type:                 approx                                         \n",
       "                             Regime 0 parameters                              \n",
       "==============================================================================\n",
       "                 coef    std err          z      P>|z|      [0.025      0.975]\n",
       "------------------------------------------------------------------------------\n",
       "const          0.0127      0.001     19.924      0.000       0.011       0.014\n",
       "                             Regime 1 parameters                              \n",
       "==============================================================================\n",
       "                 coef    std err          z      P>|z|      [0.025      0.975]\n",
       "------------------------------------------------------------------------------\n",
       "const          0.0410      0.001     43.110      0.000       0.039       0.043\n",
       "                           Non-switching parameters                           \n",
       "==============================================================================\n",
       "                 coef    std err          z      P>|z|      [0.025      0.975]\n",
       "------------------------------------------------------------------------------\n",
       "sigma2      3.067e-05   6.22e-07     49.318      0.000    2.94e-05    3.19e-05\n",
       "ar.L1          0.3193      0.016     19.919      0.000       0.288       0.351\n",
       "ar.L2          0.2200      0.016     13.385      0.000       0.188       0.252\n",
       "ar.L3          0.1931      0.015     12.762      0.000       0.163       0.223\n",
       "ar.L4          0.1503      0.015      9.892      0.000       0.121       0.180\n",
       "                         Regime transition parameters                         \n",
       "==============================================================================\n",
       "                 coef    std err          z      P>|z|      [0.025      0.975]\n",
       "------------------------------------------------------------------------------\n",
       "p[0->0]        0.9842      0.002    529.773      0.000       0.981       0.988\n",
       "p[1->0]        0.6434      0.047     13.814      0.000       0.552       0.735\n",
       "==============================================================================\n",
       "\n",
       "Warnings:\n",
       "[1] Covariance matrix calculated using numerical (complex-step) differentiation.\n",
       "\"\"\""
      ]
     },
     "execution_count": 136,
     "metadata": {},
     "output_type": "execute_result"
    }
   ],
   "source": [
    "def Markov_switching_autoregression (df, k_regimes =2, order=4):\n",
    "    \n",
    "    mod_ = sm.tsa.MarkovAutoregression(\n",
    "        df, \n",
    "        k_regimes=k_regimes, \n",
    "        order=order, \n",
    "        switching_ar=False)\n",
    "    res_ = mod_.fit()\n",
    "    \n",
    "    return  res_ \n",
    "    \n",
    "    \n",
    "  \n",
    "\n",
    "a = df [[\"range\"]]\n",
    "Markov_switching_autoregression (a).summary()\n",
    "#Markov_switching_autoregression (a).filtered_marginal_probabilities\n",
    "#Markov_switching_autoregression (a).smoothed_marginal_probabilities\n",
    "#Markov_switching_autoregression (a).expected_durations\n"
   ]
  },
  {
   "cell_type": "markdown",
   "id": "0e6a789e",
   "metadata": {
    "jp-MarkdownHeadingCollapsed": true,
    "tags": []
   },
   "source": [
    "# Fund Sty"
   ]
  },
  {
   "cell_type": "code",
   "execution_count": 1,
   "id": "4eae69b6",
   "metadata": {},
   "outputs": [],
   "source": [
    "import pandas as pd\n",
    "import numpy as np\n",
    "import os"
   ]
  },
  {
   "cell_type": "code",
   "execution_count": 2,
   "id": "77e2621b",
   "metadata": {
    "tags": []
   },
   "outputs": [
    {
     "name": "stdout",
     "output_type": "stream",
     "text": [
      "/Users/paksupa/Desktop/Nuth all class/Investment\n"
     ]
    }
   ],
   "source": [
    "print(os.getcwd())\n",
    "dirRawData = \"../RawData/\"\n",
    "nav = pd.read_csv(dirRawData+'NAV.csv')\n",
    "MSCI_Growth = pd.read_csv(dirRawData+'MSCI_Growth _clformat.csv')\n",
    "MSCI_value = pd.read_csv(dirRawData+'MSCI_value__clformat.csv')"
   ]
  },
  {
   "cell_type": "code",
   "execution_count": 3,
   "id": "252a2093",
   "metadata": {
    "tags": []
   },
   "outputs": [],
   "source": [
    "MSCI_value['date'] = pd.to_datetime(MSCI_value['Exchange Date'], format='%d/%m/%Y')\n",
    "MSCI_value['%Chgvalue'] = MSCI_value['%Chg']*100\n",
    "MSCI_value = MSCI_value.sort_values(by=['date'])\n",
    "MSCI_value\n",
    "\n",
    "MSCI_Growth['date'] = pd.to_datetime(MSCI_Growth['Exchange Date'], format='%d/%m/%Y')\n",
    "MSCI_Growth['%Chgvalue'] = MSCI_Growth['%Chg']*100\n",
    "MSCI_Growth = MSCI_Growth.sort_values(by=['date'])\n",
    "\n",
    "\n",
    "MSCIdata = pd.merge(MSCI_value, MSCI_Growth, left_on=\"date\"\n",
    "                    , right_on=\"date\", how=\"inner\")[['date','MSCI _value','MSCI_growth']]\n",
    "\n",
    "MSCIdata = MSCIdata.dropna()\n",
    "MSCIdata['MSCI _value'] = pd.to_numeric( MSCIdata['MSCI _value'])\n",
    "MSCIdata['MSCI_growth'] = pd.to_numeric( MSCIdata['MSCI_growth'])\n",
    "\n",
    "\n",
    "MSCIdata['MSCI _value'] = MSCIdata['MSCI _value'].pct_change()\n",
    "MSCIdata['MSCI_growth'] = MSCIdata['MSCI_growth'].pct_change()\n",
    "MSCIdata = MSCIdata.dropna()"
   ]
  },
  {
   "cell_type": "code",
   "execution_count": 4,
   "id": "717d17b9",
   "metadata": {},
   "outputs": [],
   "source": [
    "# load packages\n",
    "import pandas as pd\n",
    "import numpy as np\n",
    "import time\n",
    "import seaborn as sns\n",
    "from matplotlib import pyplot as plt\n",
    "import datetime\n",
    "import statsmodels.api as sm\n",
    "from scipy.optimize import minimize\n",
    "# not needed, only to prettify the plots.\n",
    "import matplotlib\n",
    "from IPython.display import set_matplotlib_formats\n",
    "from joblib import Parallel, delayed\n",
    "import statsmodels.formula.api as smf\n",
    "\n",
    "\n",
    "\n",
    "def tracking_error(r_a, r_b):\n",
    "    \"\"\"\n",
    "    Returns the Tracking Error between the two return series\n",
    "    \"\"\"\n",
    "    return np.sqrt(((r_a - r_b)**2).sum())\n",
    "\n",
    "def portfolio_tracking_error(weights, ref_r, bb_r):\n",
    "    \"\"\"\n",
    "    returns the tracking error between the reference returns\n",
    "    and a portfolio of building block returns held with given weights\n",
    "    \"\"\"\n",
    "    return tracking_error(ref_r, (weights*bb_r).sum(axis=1))\n",
    "\n",
    "def style_analysis(dependent_variable, explanatory_variables,method_= \"SLSQP\"):\n",
    "    \"\"\"\n",
    "    Returns the optimal weights that minimizes the Tracking error between\n",
    "    a portfolio of the explanatory variables and the dependent variable\n",
    "    \"\"\"\n",
    "    n = explanatory_variables.shape[1]\n",
    "    init_guess = np.repeat(1/n, n)\n",
    "    bounds = ((0.0, 1.0),) * n # an N-tuple of 2-tuples!\n",
    "    # construct the constraints\n",
    "    weights_sum_to_1 = {'type': 'eq',\n",
    "                        'fun': lambda weights: np.sum(weights) - 1\n",
    "    }\n",
    "    solution = minimize(portfolio_tracking_error, init_guess,\n",
    "                       args=(dependent_variable, explanatory_variables,), method=method_,\n",
    "                       options={'disp': False},\n",
    "                       constraints=(weights_sum_to_1,),\n",
    "                       bounds=bounds)\n",
    "    weights = pd.Series(solution.x, index=explanatory_variables.columns)\n",
    "    return weights\n",
    "\n",
    "\n",
    "def regress(dependent_variable, explanatory_variables, alpha=True, model=\"\"):\n",
    "    \"\"\"\n",
    "    Runs a linear regression to decompose the dependent variable into the explanatory variables\n",
    "    returns an object of type statsmodel's RegressionResults on which you can call\n",
    "       .summary() to print a full summary\n",
    "       .params for the coefficients\n",
    "       .tvalues and .pvalues for the significance levels\n",
    "       .rsquared_adj and .rsquared for quality of fit\n",
    "    \"\"\"\n",
    "    if alpha:\n",
    "        explanatory_variables = explanatory_variables.copy()\n",
    "        explanatory_variables[\"Alpha\"] = 1\n",
    "    #lm = smf.quantreg(dependent_variable, explanatory_variables).fit()\n",
    "    #lm = smf.mixedlm(dependent_variable, explanatory_variables).fit()\n",
    "    lm = sm.OLS(dependent_variable, explanatory_variables).fit()\n",
    "    return lm"
   ]
  },
  {
   "cell_type": "code",
   "execution_count": 5,
   "id": "eb949f18",
   "metadata": {},
   "outputs": [],
   "source": [
    "#MSCIdata\n",
    "nav_pct = nav[nav['fund_name']== \"KKP Smart Minimum Volatility\"].sort_values(by=['date'])\n",
    "nav_pct[\"pct\"] = nav_pct[\"NAV\"].pct_change()\n",
    "nav_pct['date'] = pd.to_datetime(nav_pct['date'], format='%Y/%m/%d')\n",
    "nav_pct = nav_pct[[\"date\",\"pct\"]]\n",
    "nav_pct = nav_pct.dropna()\n"
   ]
  },
  {
   "cell_type": "code",
   "execution_count": 6,
   "id": "4b62bbfa",
   "metadata": {},
   "outputs": [
    {
     "name": "stdout",
     "output_type": "stream",
     "text": [
      "MSCI _value    0.290811\n",
      "MSCI_growth    0.709189\n",
      "dtype: float64\n"
     ]
    }
   ],
   "source": [
    "def style_all_time (Factor_ret, Nav_ret, date_col =\"date\", method_= \"SLSQP\"):\n",
    "    full_data = pd.merge(Nav_ret, Factor_ret, left_on= date_col, right_on= date_col, how=\"left\").fillna(0)\n",
    "    full_data.set_index(date_col, inplace=True)\n",
    "    \n",
    "    Factor_retcolumns = Factor_ret.columns.tolist()\n",
    "    Factor_retcolumns.remove(date_col)\n",
    "    Factor_ret = full_data [Factor_retcolumns]\n",
    "    \n",
    "    nav = full_data [\"pct\"] \n",
    "    weights = style_analysis( nav, Factor_ret,method_ )\n",
    "    \n",
    "    print(weights)\n",
    "    \n",
    "    return weights\n",
    "     \n",
    "    \n",
    "weights = style_all_time (Factor_ret= MSCIdata, Nav_ret= nav_pct, date_col =\"date\")  \n",
    "    \n"
   ]
  },
  {
   "cell_type": "code",
   "execution_count": 27,
   "id": "749cbde9-d3f9-4d43-9822-5419084a64e5",
   "metadata": {},
   "outputs": [
    {
     "data": {
      "text/plain": [
       "MSCI _value    0.0\n",
       "MSCI_growth    1.0\n",
       "dtype: float64"
      ]
     },
     "execution_count": 27,
     "metadata": {},
     "output_type": "execute_result"
    }
   ],
   "source": [
    "Factor_ret= MSCIdata\n",
    "Nav_ret= nav_pct\n",
    "date_col = \"date\"\n",
    "full_data= pd.merge(Nav_ret, Factor_ret, left_on= date_col, right_on= date_col, how=\"left\").fillna(0)\n",
    "\n",
    "\n",
    "style_time_dic = {}\n",
    "def style_time_pal (i,full_data, n ,Factor_ret, Nav_ret, date_col =\"date\", method_= \"SLSQP\"):\n",
    "    data_ = full_data.iloc[ i:i+n]\n",
    "    \n",
    "    Factor_retcolumns = Factor_ret.columns.tolist()\n",
    "    Factor_retcolumns.remove(date_col)\n",
    "    Factor_ret = data_[Factor_retcolumns]\n",
    "    \n",
    "    nav = data_[\"pct\"]\n",
    "    weights = style_analysis( nav, Factor_ret,method_ )    \n",
    "    style_time_dic[data_.index[1]] = weights\n",
    "\n",
    "    return weights\n",
    "\n",
    "dummy_1 = style_time_pal (full_data=full_data, n=30 ,i=1,Factor_ret= MSCIdata, Nav_ret= nav_pct)\n",
    "dummy_1"
   ]
  },
  {
   "cell_type": "code",
   "execution_count": 38,
   "id": "a546d3bc-e944-42b8-b88c-ea70dc5eaa12",
   "metadata": {
    "tags": []
   },
   "outputs": [
    {
     "name": "stdout",
     "output_type": "stream",
     "text": [
      "run time  8.8096 s\n"
     ]
    },
    {
     "data": {
      "text/html": [
       "<div>\n",
       "<style scoped>\n",
       "    .dataframe tbody tr th:only-of-type {\n",
       "        vertical-align: middle;\n",
       "    }\n",
       "\n",
       "    .dataframe tbody tr th {\n",
       "        vertical-align: top;\n",
       "    }\n",
       "\n",
       "    .dataframe thead th {\n",
       "        text-align: right;\n",
       "    }\n",
       "</style>\n",
       "<table border=\"1\" class=\"dataframe\">\n",
       "  <thead>\n",
       "    <tr style=\"text-align: right;\">\n",
       "      <th></th>\n",
       "      <th>MSCI _value</th>\n",
       "      <th>MSCI_growth</th>\n",
       "    </tr>\n",
       "  </thead>\n",
       "  <tbody>\n",
       "    <tr>\n",
       "      <th>0</th>\n",
       "      <td>0.000000e+00</td>\n",
       "      <td>1.0</td>\n",
       "    </tr>\n",
       "    <tr>\n",
       "      <th>1</th>\n",
       "      <td>0.000000e+00</td>\n",
       "      <td>1.0</td>\n",
       "    </tr>\n",
       "    <tr>\n",
       "      <th>2</th>\n",
       "      <td>0.000000e+00</td>\n",
       "      <td>1.0</td>\n",
       "    </tr>\n",
       "    <tr>\n",
       "      <th>3</th>\n",
       "      <td>2.220446e-16</td>\n",
       "      <td>1.0</td>\n",
       "    </tr>\n",
       "    <tr>\n",
       "      <th>4</th>\n",
       "      <td>5.551115e-17</td>\n",
       "      <td>1.0</td>\n",
       "    </tr>\n",
       "    <tr>\n",
       "      <th>...</th>\n",
       "      <td>...</td>\n",
       "      <td>...</td>\n",
       "    </tr>\n",
       "    <tr>\n",
       "      <th>1642</th>\n",
       "      <td>5.000000e-01</td>\n",
       "      <td>0.5</td>\n",
       "    </tr>\n",
       "    <tr>\n",
       "      <th>1643</th>\n",
       "      <td>5.000000e-01</td>\n",
       "      <td>0.5</td>\n",
       "    </tr>\n",
       "    <tr>\n",
       "      <th>1644</th>\n",
       "      <td>5.000000e-01</td>\n",
       "      <td>0.5</td>\n",
       "    </tr>\n",
       "    <tr>\n",
       "      <th>1645</th>\n",
       "      <td>5.000000e-01</td>\n",
       "      <td>0.5</td>\n",
       "    </tr>\n",
       "    <tr>\n",
       "      <th>1646</th>\n",
       "      <td>5.000000e-01</td>\n",
       "      <td>0.5</td>\n",
       "    </tr>\n",
       "  </tbody>\n",
       "</table>\n",
       "<p>1647 rows × 2 columns</p>\n",
       "</div>"
      ],
      "text/plain": [
       "       MSCI _value  MSCI_growth\n",
       "0     0.000000e+00          1.0\n",
       "1     0.000000e+00          1.0\n",
       "2     0.000000e+00          1.0\n",
       "3     2.220446e-16          1.0\n",
       "4     5.551115e-17          1.0\n",
       "...            ...          ...\n",
       "1642  5.000000e-01          0.5\n",
       "1643  5.000000e-01          0.5\n",
       "1644  5.000000e-01          0.5\n",
       "1645  5.000000e-01          0.5\n",
       "1646  5.000000e-01          0.5\n",
       "\n",
       "[1647 rows x 2 columns]"
      ]
     },
     "execution_count": 38,
     "metadata": {},
     "output_type": "execute_result"
    }
   ],
   "source": [
    "def style_time_series (Factor_ret, Nav_ret, date_col =\"date\", method_= \"SLSQP\", n_period=20) :\n",
    "    \n",
    "    full_data= pd.merge(Nav_ret, Factor_ret, \n",
    "                        left_on= date_col, right_on= date_col, \n",
    "                        how=\"left\").fillna(0)\n",
    "    n = full_data.count().tolist()[0]\n",
    "    style_time_dic = {}\n",
    "    \n",
    "    start = time.time()\n",
    "    # n_jobs is the number of parallel jobs\n",
    "    n = full_data.count().tolist()[0]\n",
    "    lst_style_time  = Parallel(n_jobs=2)(delayed(style_time_pal)(full_data=full_data, n=30 ,i=i,Factor_ret= MSCIdata, Nav_ret= nav_pct) for i in range(0, n-30, 1))\n",
    "    end = time.time()\n",
    "    print(\"run time \",'{:.4f} s'.format(end-start))\n",
    "    \n",
    "    df_style_time  = pd.DataFrame(lst_style_time)\n",
    "    \n",
    "    return df_style_time\n",
    "    \n",
    "    \n",
    "    \n",
    "style_time_series (Factor_ret= MSCIdata, Nav_ret= nav_pct)   "
   ]
  },
  {
   "cell_type": "code",
   "execution_count": null,
   "id": "54246074",
   "metadata": {},
   "outputs": [],
   "source": []
  },
  {
   "cell_type": "code",
   "execution_count": null,
   "id": "bf5d6413",
   "metadata": {},
   "outputs": [],
   "source": []
  },
  {
   "cell_type": "code",
   "execution_count": null,
   "id": "3faba343",
   "metadata": {},
   "outputs": [],
   "source": []
  },
  {
   "cell_type": "code",
   "execution_count": null,
   "id": "16005504",
   "metadata": {},
   "outputs": [],
   "source": []
  },
  {
   "cell_type": "code",
   "execution_count": null,
   "id": "bb5ea08d",
   "metadata": {},
   "outputs": [],
   "source": []
  }
 ],
 "metadata": {
  "kernelspec": {
   "display_name": "Python 3 (ipykernel)",
   "language": "python",
   "name": "python3"
  },
  "language_info": {
   "codemirror_mode": {
    "name": "ipython",
    "version": 3
   },
   "file_extension": ".py",
   "mimetype": "text/x-python",
   "name": "python",
   "nbconvert_exporter": "python",
   "pygments_lexer": "ipython3",
   "version": "3.9.13"
  }
 },
 "nbformat": 4,
 "nbformat_minor": 5
}
